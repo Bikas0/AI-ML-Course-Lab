{
 "cells": [
  {
   "cell_type": "code",
   "execution_count": 1,
   "id": "f8340b09",
   "metadata": {},
   "outputs": [],
   "source": [
    "import pandas as pd\n",
    "import numpy as np\n",
    "import matplotlib.pyplot as plt"
   ]
  },
  {
   "cell_type": "code",
   "execution_count": 2,
   "id": "b312f2b6",
   "metadata": {},
   "outputs": [
    {
     "data": {
      "text/html": [
       "<div>\n",
       "<style scoped>\n",
       "    .dataframe tbody tr th:only-of-type {\n",
       "        vertical-align: middle;\n",
       "    }\n",
       "\n",
       "    .dataframe tbody tr th {\n",
       "        vertical-align: top;\n",
       "    }\n",
       "\n",
       "    .dataframe thead th {\n",
       "        text-align: right;\n",
       "    }\n",
       "</style>\n",
       "<table border=\"1\" class=\"dataframe\">\n",
       "  <thead>\n",
       "    <tr style=\"text-align: right;\">\n",
       "      <th></th>\n",
       "      <th>A</th>\n",
       "      <th>B</th>\n",
       "      <th>C</th>\n",
       "      <th>Output</th>\n",
       "    </tr>\n",
       "  </thead>\n",
       "  <tbody>\n",
       "    <tr>\n",
       "      <th>0</th>\n",
       "      <td>1</td>\n",
       "      <td>1</td>\n",
       "      <td>1</td>\n",
       "      <td>x</td>\n",
       "    </tr>\n",
       "    <tr>\n",
       "      <th>1</th>\n",
       "      <td>1</td>\n",
       "      <td>1</td>\n",
       "      <td>0</td>\n",
       "      <td>x</td>\n",
       "    </tr>\n",
       "    <tr>\n",
       "      <th>2</th>\n",
       "      <td>0</td>\n",
       "      <td>0</td>\n",
       "      <td>1</td>\n",
       "      <td>y</td>\n",
       "    </tr>\n",
       "    <tr>\n",
       "      <th>3</th>\n",
       "      <td>1</td>\n",
       "      <td>0</td>\n",
       "      <td>0</td>\n",
       "      <td>y</td>\n",
       "    </tr>\n",
       "  </tbody>\n",
       "</table>\n",
       "</div>"
      ],
      "text/plain": [
       "   A  B  C Output\n",
       "0  1  1  1      x\n",
       "1  1  1  0      x\n",
       "2  0  0  1      y\n",
       "3  1  0  0      y"
      ]
     },
     "execution_count": 2,
     "metadata": {},
     "output_type": "execute_result"
    }
   ],
   "source": [
    "data = pd.read_excel(\"Dtaset.xlsx\")\n",
    "data.head()"
   ]
  },
  {
   "cell_type": "code",
   "execution_count": 3,
   "id": "98d46d13",
   "metadata": {},
   "outputs": [],
   "source": [
    "count_1 = 0\n",
    "count_2 = 0\n",
    "for i in range(len(data)):\n",
    "    if(data[\"Output\"][i]==\"x\"):\n",
    "        count_1 = count_1+1\n",
    "    else:\n",
    "        count_2 = count_2 +1"
   ]
  },
  {
   "cell_type": "code",
   "execution_count": 4,
   "id": "4252e68d",
   "metadata": {},
   "outputs": [],
   "source": [
    "def cal_Entropy(x,y):\n",
    "    t = x+y\n",
    "    if(x == 0):\n",
    "        entropy = -((y/t)*np.log2(y/t))\n",
    "    elif(y == 0):\n",
    "        entropy = -((x/t)*np.log2(x/t))\n",
    "    else:\n",
    "        entropy = -((x/t)*np.log2(x/t)+(y/t)*np.log2(y/t))\n",
    "    #entropy  = \"{:.2f}\".format(entropy)\n",
    "    #t = \"{:.2f}\".format(t)\n",
    "    return t, entropy"
   ]
  },
  {
   "cell_type": "code",
   "execution_count": 5,
   "id": "c6e8e209",
   "metadata": {},
   "outputs": [
    {
     "name": "stdout",
     "output_type": "stream",
     "text": [
      "Total Data : 4 \n",
      "Parent Entropy : 1.0\n"
     ]
    }
   ],
   "source": [
    "total_data, parent_Entropy = cal_Entropy(count_1,count_2)\n",
    "\n",
    "print(f\"Total Data : {total_data} \\nParent Entropy : {parent_Entropy}\")"
   ]
  },
  {
   "cell_type": "code",
   "execution_count": 6,
   "id": "98c04e66",
   "metadata": {},
   "outputs": [],
   "source": [
    "def child_data(c_data, x):\n",
    "    child1= []\n",
    "    child2= []\n",
    "    #print(c_data)\n",
    "    for i in range(len(c_data)):\n",
    "        if(c_data[x][i]==1):\n",
    "            child1.append(c_data[\"Output\"][i])\n",
    "        else:\n",
    "            child2.append(c_data[\"Output\"][i])\n",
    "    #print(len(child1), len(child2))        \n",
    "    #child = pd.DataFrame(list(zip(child1, child2)),columns =['child1', 'child2'])       \n",
    "    return child1, child2  \n",
    "\n",
    "def count_data(data):\n",
    "    count_1 = 0\n",
    "    count_2 = 0\n",
    "    for i in range(len(data)):\n",
    "        if(data[i]==\"x\"):\n",
    "            count_1 = count_1+1\n",
    "        else:\n",
    "            count_2 = count_2 +1\n",
    "    return count_1, count_2\n",
    "\n",
    "def wgh_avg_entropy(total_data, child_total_data1, child_entropy1, child_total_data2, child_entropy2):\n",
    "    avg_entropy = (((child_total_data1 / total_data)*child_entropy1) + ((child_total_data2 / total_data)*child_entropy2))\n",
    "    return avg_entropy\n",
    "\n",
    "def information_gain(child1, child2):\n",
    "    count_1, count_2 = count_data(child1)\n",
    "    child_total_data1, child_entropy1 = cal_Entropy(count_1,count_2)\n",
    "    count_1, count_2 = count_data(child2)\n",
    "    child_total_data2, child_entropy2 = cal_Entropy(count_1,count_2)\n",
    "    avg_entropy = wgh_avg_entropy(total_data, child_total_data1, child_entropy1, child_total_data2, child_entropy2)\n",
    "    I_Gain= \"{:.2f}\".format(parent_Entropy-avg_entropy)\n",
    "    return I_Gain"
   ]
  },
  {
   "cell_type": "code",
   "execution_count": 7,
   "id": "b0b81b76",
   "metadata": {},
   "outputs": [
    {
     "name": "stdout",
     "output_type": "stream",
     "text": [
      "For Attribute A :  0.31\n"
     ]
    }
   ],
   "source": [
    "child1, child2 = child_data(data[[\"A\", \"Output\"]], \"A\")\n",
    "print(\"For Attribute A : \",information_gain(child1, child2))"
   ]
  },
  {
   "cell_type": "code",
   "execution_count": 8,
   "id": "778d5d51",
   "metadata": {},
   "outputs": [
    {
     "name": "stdout",
     "output_type": "stream",
     "text": [
      "For Attribute B :  1.00\n"
     ]
    }
   ],
   "source": [
    "child1, child2 = child_data(data[[\"B\", \"Output\"]], \"B\")\n",
    "print(\"For Attribute B : \",information_gain(child1, child2))"
   ]
  },
  {
   "cell_type": "code",
   "execution_count": 9,
   "id": "5ce458a7",
   "metadata": {},
   "outputs": [
    {
     "name": "stdout",
     "output_type": "stream",
     "text": [
      "For Attribute C :  0.00\n"
     ]
    }
   ],
   "source": [
    "child1, child2 = child_data(data[[\"C\", \"Output\"]], \"C\")\n",
    "print(\"For Attribute C : \",information_gain(child1, child2))"
   ]
  },
  {
   "cell_type": "code",
   "execution_count": null,
   "id": "615001ba",
   "metadata": {},
   "outputs": [],
   "source": []
  }
 ],
 "metadata": {
  "kernelspec": {
   "display_name": "Python 3 (ipykernel)",
   "language": "python",
   "name": "python3"
  },
  "language_info": {
   "codemirror_mode": {
    "name": "ipython",
    "version": 3
   },
   "file_extension": ".py",
   "mimetype": "text/x-python",
   "name": "python",
   "nbconvert_exporter": "python",
   "pygments_lexer": "ipython3",
   "version": "3.9.7"
  }
 },
 "nbformat": 4,
 "nbformat_minor": 5
}
