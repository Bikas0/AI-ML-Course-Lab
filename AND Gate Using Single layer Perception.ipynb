{
 "cells": [
  {
   "cell_type": "code",
   "execution_count": 1,
   "id": "5a13c171",
   "metadata": {},
   "outputs": [
    {
     "name": "stdout",
     "output_type": "stream",
     "text": [
      "Perceptron Training\n",
      "####################\n",
      "________________\n",
      "Input : 0 , 0\n",
      "Weights : 0.6 , 0.8\n",
      "Summation : -1.5\n",
      "Actual output : 0 Predicted Output 0\n",
      "Input : 0 , 1\n",
      "Weights : 0.6 , 0.8\n",
      "Summation : -0.7\n",
      "Actual output : 0 Predicted Output 0\n",
      "Input : 1 , 0\n",
      "Weights : 0.6 , 0.8\n",
      "Summation : -0.9\n",
      "Actual output : 0 Predicted Output 0\n",
      "Input : 1 , 1\n",
      "Weights : 0.6 , 0.8\n",
      "Summation : -0.10000000000000009\n",
      "Actual output : 1 Predicted Output 0\n",
      ".........\n",
      "Updating Weights\n",
      "Updated Weights:  1.1,1.3\n",
      "\n",
      "Weights Updated Training Again : \n",
      "##################################\n",
      "Input : 0 , 0\n",
      "Weights : 1.1 , 1.3\n",
      "Summation : -1.5\n",
      "Actual output : 0 Predicted Output 0\n",
      "Input : 0 , 1\n",
      "Weights : 1.1 , 1.3\n",
      "Summation : -0.19999999999999996\n",
      "Actual output : 0 Predicted Output 0\n",
      "Input : 1 , 0\n",
      "Weights : 1.1 , 1.3\n",
      "Summation : -0.3999999999999999\n",
      "Actual output : 0 Predicted Output 0\n",
      "Input : 1 , 1\n",
      "Weights : 1.1 , 1.3\n",
      "Summation : 0.9000000000000004\n",
      "Actual output : 1 Predicted Output 1\n"
     ]
    },
    {
     "data": {
      "image/png": "[encoded data removed]",
      "text/plain": [
       "<Figure size 864x576 with 1 Axes>"
      ]
     },
     "metadata": {
      "needs_background": "light"
     },
     "output_type": "display_data"
    },
    {
     "name": "stdout",
     "output_type": "stream",
     "text": [
      "AND Gate Output for [1, 1] : 1\n"
     ]
    }
   ],
   "source": [
    "import numpy as np\n",
    "def activation(out, threshold):\n",
    "    act_out = 1/(1 + np.exp(-out))\n",
    "    if act_out>=threshold:\n",
    "        return 1\n",
    "    else:\n",
    "        return 0\n",
    "    \n",
    "def perceptron(and_input):\n",
    "    a = [0, 0, 1, 1]\n",
    "    b = [0, 1, 0, 1]\n",
    "    y = [0, 0, 0, 1]\n",
    "    bias = -1\n",
    "    w = [0.6, 0.8, 1.5]\n",
    "    threshold = 0.5\n",
    "    learning_rate = 0.5\n",
    "    i = 0\n",
    "    print(\"Perceptron Training\")\n",
    "    print(\"####################\")\n",
    "    print(\"________________\")\n",
    "    while i<4:\n",
    "        summation = (a[i]*w[0] + b[i]*w[1]) + bias*w[2]\n",
    "        target_output = activation(summation, threshold)\n",
    "        print(\"Input : \" + str(a[i]) + \" , \"+str(b[i]))\n",
    "        print(\"Weights : \" + str(w[0]) + \" , \"+str(w[1]))\n",
    "        print(\"Summation : \" + str(summation))\n",
    "        print(\"Actual output : \" + str(y[i]) + \" Predicted Output \"+str(target_output))\n",
    "        \n",
    "        if(target_output != y[i]):\n",
    "            print(\".........\\nUpdating Weights\")\n",
    "            w[0] = w[0] + learning_rate*(y[i] - target_output)*a[i]\n",
    "            w[1] = w[1] + learning_rate*(y[i] - target_output)*b[i]\n",
    "            print(\"Updated Weights: \", str(w[0]) + ','+str(w[1]))\n",
    "            i = -1\n",
    "            print(\"\\nWeights Updated Training Again : \")\n",
    "            print(\"##################################\")\n",
    "        i = i+1\n",
    "        #print(\"---------------\")  \n",
    "    summation = and_input[0]*w[0] + and_input[1]*w[1] + bias*w[2]\n",
    "    import matplotlib.pyplot as plt\n",
    "    plt.figure(figsize=(12, 8))\n",
    "    x_min, x_max = -0.5, 1.5\n",
    "    y_min, y_max = -0.5, 1.5\n",
    "    xx, yy = np.meshgrid(np.linspace(x_min, x_max, 100), np.linspace(y_min, y_max, 100))\n",
    "    Z = np.array([activation((np.dot([w[0],w[1]], [a, b]) + bias*w[2]), threshold) for a, b in np.c_[xx.ravel(), yy.ravel()]])\n",
    "    Z = Z.reshape(xx.shape)\n",
    "    plt.contourf(xx, yy, Z, cmap='Oranges')\n",
    "    for i in range(len(y)):\n",
    "        if y[i] == 0:\n",
    "            plt.scatter(a[i], b[i], color='red', marker='x', label='Class 0')\n",
    "        else:\n",
    "            plt.scatter(a[i], b[i], color='green', marker='o', label='Class 1')\n",
    "    #plt.scatter(a,b, c=y, cmap = \"Blues_r\", label = \"a & b values\")\n",
    "    plt.title(\"AND GATE \")\n",
    "    plt.xlim(xx.min(), xx.max())\n",
    "    plt.ylim(yy.min(), yy.max())\n",
    "    #plt.xticks(())\n",
    "    #plt.yticks(())\n",
    "    #plt.grid()\n",
    "    plt.legend()\n",
    "    plt.show()\n",
    "    return activation(summation, threshold)\n",
    "\n",
    "and_input = [1,1]\n",
    "output = perceptron(and_input)\n",
    "print(\"AND Gate Output for \"+ str(and_input) + \" : \" + str(output))"
   ]
  },
  {
   "cell_type": "code",
   "execution_count": null,
   "id": "dc61beb6",
   "metadata": {},
   "outputs": [],
   "source": []
  }
 ],
 "metadata": {
  "kernelspec": {
   "display_name": "Python 3 (ipykernel)",
   "language": "python",
   "name": "python3"
  },
  "language_info": {
   "codemirror_mode": {
    "name": "ipython",
    "version": 3
   },
   "file_extension": ".py",
   "mimetype": "text/x-python",
   "name": "python",
   "nbconvert_exporter": "python",
   "pygments_lexer": "ipython3",
   "version": "3.9.7"
  }
 },
 "nbformat": 4,
 "nbformat_minor": 5
}
